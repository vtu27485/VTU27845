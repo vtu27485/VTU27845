{
  "nbformat": 4,
  "nbformat_minor": 0,
  "metadata": {
    "colab": {
      "provenance": [],
      "authorship_tag": "ABX9TyP0hdLz2hVfrA71buZD78XP",
      "include_colab_link": true
    },
    "kernelspec": {
      "name": "python3",
      "display_name": "Python 3"
    },
    "language_info": {
      "name": "python"
    }
  },
  "cells": [
    {
      "cell_type": "markdown",
      "metadata": {
        "id": "view-in-github",
        "colab_type": "text"
      },
      "source": [
        "<a href=\"https://colab.research.google.com/github/vtu27485/VTU27845/blob/main/Task13_py.ipynb\" target=\"_parent\"><img src=\"https://colab.research.google.com/assets/colab-badge.svg\" alt=\"Open In Colab\"/></a>"
      ]
    },
    {
      "cell_type": "code",
      "execution_count": null,
      "metadata": {
        "id": "qCEyTqHrEtBu"
      },
      "outputs": [],
      "source": [
        "def optimal_strategy_with_moves(cards):\n",
        "    n = len(cards)\n",
        "    dp = [[0] * n for _ in range(n)]\n",
        "    move = [[\"\"] * n for _ in range(n)]\n",
        "\n",
        "    for i in range(n):\n",
        "        dp[i][i] = cards[i]\n",
        "        move[i][i] = \"left\"\n",
        "\n",
        "\n",
        "    for i in range(n - 1):\n",
        "        if cards[i] >= cards[i + 1]:\n",
        "            dp[i][i + 1] = cards[i]\n",
        "            move[i][i + 1] = \"left\"\n",
        "        else:\n",
        "            dp[i][i + 1] = cards[i + 1]\n",
        "            move[i][i + 1] = \"right\"\n",
        "\n",
        "\n",
        "    for length in range(3, n + 1):\n",
        "        for i in range(n - length + 1):\n",
        "            j = i + length - 1\n",
        "\n",
        "\n",
        "            pick_left = cards[i] + min(\n",
        "                dp[i + 2][j] if i + 2 <= j else 0,\n",
        "                dp[i + 1][j - 1] if i + 1 <= j - 1 else 0\n",
        "            )\n",
        "\n",
        "\n",
        "            pick_right = cards[j] + min(\n",
        "                dp[i + 1][j - 1] if i <= j - 2 else 0,\n",
        "                dp[i][j - 2] if i <= j - 2 else 0\n",
        "            )\n",
        "\n",
        "            if pick_left >= pick_right:\n",
        "                dp[i][j] = pick_left\n",
        "                move[i][j] = \"left\"\n",
        "            else:\n",
        "                dp[i][j] = pick_right\n",
        "                move[i][j] = \"right\"\n",
        "\n",
        "\n",
        "    i, j = 0, n - 1\n",
        "    moves = []\n",
        "    while i <= j:\n",
        "        if move[i][j] == \"left\":\n",
        "            moves.append(\"left\")\n",
        "\n",
        "            if i + 1 <= j and (i + 2 > j or dp[i + 2][j] <= dp[i + 1][j - 1]):\n",
        "                i += 1\n",
        "            else:\n",
        "                j -= 1\n",
        "            i += 1  # Player takes left card\n",
        "        else:\n",
        "            moves.append(\"right\")\n",
        "\n",
        "            if j - 1 >= i and (j - 2 < i or dp[i + 1][j - 1] <= dp[i][j - 2]):\n",
        "                j -= 1\n",
        "            else:\n",
        "                i += 1\n",
        "            j -= 1\n",
        "\n",
        "    return dp[0][n - 1], moves\n",
        "\n",
        "\n",
        "cards = [3, 9, 1, 2]\n",
        "score, moves = optimal_strategy_with_moves(cards)\n",
        "print(\"Maximum score:\", score)\n",
        "print(\"Winning moves sequence:\", moves)\n"
      ]
    }
  ]
}