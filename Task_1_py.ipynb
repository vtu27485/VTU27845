{
  "nbformat": 4,
  "nbformat_minor": 0,
  "metadata": {
    "colab": {
      "provenance": [],
      "authorship_tag": "ABX9TyNxjvCDRCyv07F2wtcDG9PU",
      "include_colab_link": true
    },
    "kernelspec": {
      "name": "python3",
      "display_name": "Python 3"
    },
    "language_info": {
      "name": "python"
    }
  },
  "cells": [
    {
      "cell_type": "markdown",
      "metadata": {
        "id": "view-in-github",
        "colab_type": "text"
      },
      "source": [
        "<a href=\"https://colab.research.google.com/github/vtu27485/VTU27845/blob/main/Task_1_py.ipynb\" target=\"_parent\"><img src=\"https://colab.research.google.com/assets/colab-badge.svg\" alt=\"Open In Colab\"/></a>"
      ]
    },
    {
      "cell_type": "code",
      "execution_count": null,
      "metadata": {
        "id": "-EU-qB5U1KuU"
      },
      "outputs": [],
      "source": [
        "principal=float(input(\"Enter the principal amount:\"))\n",
        "rate=float(input(\"Enter the rate of interest:\"))\n",
        "time=float(input(\"Enter the time in years:\"))\n",
        "compound_interest=principal*((1+rate/100)*time)-principal\n",
        "print(\"The compound interest is :\",compound_interest)\n"
      ]
    },
    {
      "cell_type": "code",
      "source": [
        "def calculate_total_cost(x, y):\n",
        "    return x * y\n",
        "\n",
        "t = int(input(\"Enter the number of test cases:\"))\n",
        "\n",
        "for _ in range(t):\n",
        "    x, y = map(int, input().split())\n",
        "    total_amount = calculate_total_cost(x, y)\n",
        "    print(total_amount)"
      ],
      "metadata": {
        "id": "trlEvCCk18xC"
      },
      "execution_count": null,
      "outputs": []
    },
    {
      "cell_type": "code",
      "source": [
        "import math\n",
        "\n",
        "def calculate_area_in_acres(radius_in_feet):\n",
        "    area_in_acres = math.pi * (radius_in_feet ** 2) / 43560\n",
        "    return area_in_acres\n",
        "\n",
        "radius_in_feet = float(input(\"Enter the radius of the field in feet: \"))\n",
        "area_in_acres = calculate_area_in_acres(radius_in_feet)\n",
        "\n",
        "print(f\"The area of the field is: {area_in_acres:.2f} acres\")"
      ],
      "metadata": {
        "id": "72LSZCFW2NUw"
      },
      "execution_count": null,
      "outputs": []
    },
    {
      "cell_type": "code",
      "source": [
        "import math\n",
        "\n",
        "def calculate_distance(x1, y1, x2, y2):\n",
        "    distance = math.sqrt((x2 - x1)**2 + (y2 - y1)**2)\n",
        "    return distance\n",
        "\n",
        "x_Ram = float(input(\"Enter the X-coordinate of Ram: \"))\n",
        "y_Ram = float(input(\"Enter the Y-coordinate of Ram: \"))\n",
        "x_Sita = float(input(\"Enter the X-coordinate of Sita: \"))\n",
        "y_Sita = float(input(\"Enter the Y-coordinate of Sita: \"))\n",
        "\n",
        "distance_between_them = calculate_distance(x_Ram, y_Ram, x_Sita, y_Sita)\n",
        "\n",
        "print(f\"The distance between Ram and Sita is: {distance_between_them:.2f}\")"
      ],
      "metadata": {
        "id": "SrwOAaO62aSz"
      },
      "execution_count": null,
      "outputs": []
    }
  ]
}