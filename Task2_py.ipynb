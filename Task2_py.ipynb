{
  "nbformat": 4,
  "nbformat_minor": 0,
  "metadata": {
    "colab": {
      "provenance": [],
      "authorship_tag": "ABX9TyNfH6TJj81Y3OW0tICdB/K2",
      "include_colab_link": true
    },
    "kernelspec": {
      "name": "python3",
      "display_name": "Python 3"
    },
    "language_info": {
      "name": "python"
    }
  },
  "cells": [
    {
      "cell_type": "markdown",
      "metadata": {
        "id": "view-in-github",
        "colab_type": "text"
      },
      "source": [
        "<a href=\"https://colab.research.google.com/github/vtu27485/VTU27845/blob/main/Task2_py.ipynb\" target=\"_parent\"><img src=\"https://colab.research.google.com/assets/colab-badge.svg\" alt=\"Open In Colab\"/></a>"
      ]
    },
    {
      "cell_type": "code",
      "execution_count": null,
      "metadata": {
        "id": "GSpLlfmp3F2j"
      },
      "outputs": [],
      "source": [
        "import random\n",
        "\n",
        "def guess_number():\n",
        "    target_number = random.randint(1, 9)\n",
        "    while True:\n",
        "\n",
        "            user_guess = int(input(\"Guess a number between 1 to 9: \"))\n",
        "            if user_guess == target_number:\n",
        "                print(\"Well Guessed!\")\n",
        "                break\n",
        "            else:\n",
        "                print(\"Wrong Guess! Try Again.\")\n",
        "\n",
        "guess_number()"
      ]
    },
    {
      "cell_type": "code",
      "source": [
        "for number in range(1,51):\n",
        "    if number%3==0 and number%5==0:\n",
        "        print(\"FizzBuzz\")\n",
        "    elif number%3==0:\n",
        "        print(\"Fizz\")\n",
        "    elif number%5==0:\n",
        "        print(\"Buzz\")\n",
        "    else:\n",
        "        print(number)"
      ],
      "metadata": {
        "id": "kXog1VaU3pmu"
      },
      "execution_count": null,
      "outputs": []
    },
    {
      "cell_type": "code",
      "source": [
        "nums = list(input(\"Enter a sequence of comma separated 4 digit binary numbers: \").split(\",\"))\n",
        "res = [i for i in nums if int(i, 2) % 6 == 0]\n",
        "print(res)"
      ],
      "metadata": {
        "id": "iOllwGGr31bD"
      },
      "execution_count": null,
      "outputs": []
    },
    {
      "cell_type": "code",
      "source": [
        "def count_even_odd(numbers):\n",
        "    even_count = 0\n",
        "    odd_count = 0\n",
        "    for num in numbers:\n",
        "        if num % 2 == 0:\n",
        "            even_count += 1\n",
        "        else:\n",
        "            odd_count += 1\n",
        "    return even_count, odd_count\n",
        "input_numbers = input(\"Enter a series of numbers separated by space: \")\n",
        "numbers = list(map(int, input_numbers.split()))\n",
        "even_count, odd_count = count_even_odd(numbers)\n",
        "print(\"Number of even numbers:\", even_count)\n",
        "print(\"Number of odd numbers:\", odd_count)"
      ],
      "metadata": {
        "id": "szXioU5p35dh"
      },
      "execution_count": null,
      "outputs": []
    }
  ]
}