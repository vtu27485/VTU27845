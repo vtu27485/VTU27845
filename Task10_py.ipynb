{
  "nbformat": 4,
  "nbformat_minor": 0,
  "metadata": {
    "colab": {
      "provenance": [],
      "authorship_tag": "ABX9TyPkE/NZmnWWlqEBNRME46j8",
      "include_colab_link": true
    },
    "kernelspec": {
      "name": "python3",
      "display_name": "Python 3"
    },
    "language_info": {
      "name": "python"
    }
  },
  "cells": [
    {
      "cell_type": "markdown",
      "metadata": {
        "id": "view-in-github",
        "colab_type": "text"
      },
      "source": [
        "<a href=\"https://colab.research.google.com/github/vtu27485/VTU27845/blob/main/Task10_py.ipynb\" target=\"_parent\"><img src=\"https://colab.research.google.com/assets/colab-badge.svg\" alt=\"Open In Colab\"/></a>"
      ]
    },
    {
      "cell_type": "code",
      "execution_count": null,
      "metadata": {
        "id": "4YqLZSh-B_wO"
      },
      "outputs": [],
      "source": [
        "import numpy as np\n",
        "import matplotlib.pyplot as plt\n",
        "x = np.linspace(0, 2*np.pi, 1000)\n",
        "y = np.sin(x)\n",
        "plt.plot(x, y)\n",
        "plt.title('Sine Wave')\n",
        "plt.xlabel('x')\n",
        "plt.ylabel('sin(x)')\n",
        "plt.grid(True)\n",
        "plt.show()"
      ]
    },
    {
      "cell_type": "code",
      "source": [
        "import matplotlib.pyplot as plt\n",
        "intervals = ['140-145', '145-150', '151-156', '157-162', '163-168', '168-173', '173-178', '179-184', '185-190', '190-195']\n",
        "frequencies = [2, 5, 15, 31, 46, 53, 45, 28, 21, 4]\n",
        "plt.bar(intervals, frequencies, edgecolor='red')\n",
        "plt.xlabel('Height Intervals (cm)')\n",
        "plt.ylabel('Frequency')\n",
        "plt.title('Height Distribution Histogram')\n",
        "plt.grid(True)\n",
        "plt.show()"
      ],
      "metadata": {
        "id": "2tVJDetfCFOI"
      },
      "execution_count": null,
      "outputs": []
    },
    {
      "cell_type": "code",
      "source": [
        "import matplotlib.pyplot as plt\n",
        "sizes = [35, 25, 25, 15]\n",
        "mylabels = ['w', 'x', 'y', 'z']\n",
        "myexplode = [0.2, 0, 0, 0]\n",
        "plt.pie(sizes, labels=mylabels, explode=myexplode, shadow=True, autopct='%1.1f%%')\n",
        "plt.title('Pie Chart')\n",
        "plt.show()"
      ],
      "metadata": {
        "id": "jn2kOCtyCNlI"
      },
      "execution_count": null,
      "outputs": []
    }
  ]
}