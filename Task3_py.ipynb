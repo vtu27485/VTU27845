{
  "nbformat": 4,
  "nbformat_minor": 0,
  "metadata": {
    "colab": {
      "provenance": [],
      "authorship_tag": "ABX9TyMfGaqBo7A7xlzqB6ZICVsA",
      "include_colab_link": true
    },
    "kernelspec": {
      "name": "python3",
      "display_name": "Python 3"
    },
    "language_info": {
      "name": "python"
    }
  },
  "cells": [
    {
      "cell_type": "markdown",
      "metadata": {
        "id": "view-in-github",
        "colab_type": "text"
      },
      "source": [
        "<a href=\"https://colab.research.google.com/github/vtu27485/VTU27845/blob/main/Task3_py.ipynb\" target=\"_parent\"><img src=\"https://colab.research.google.com/assets/colab-badge.svg\" alt=\"Open In Colab\"/></a>"
      ]
    },
    {
      "cell_type": "code",
      "execution_count": null,
      "metadata": {
        "id": "EC5Po3s54TXq",
        "colab": {
          "base_uri": "https://localhost:8080/"
        },
        "outputId": "89ab50d0-06f2-4fef-a980-ca01c71ee5b5"
      },
      "outputs": [
        {
          "output_type": "stream",
          "name": "stdout",
          "text": [
            "Enter the date in MM DD YYYY format: 11 01 2007\n",
            "THURSDAY\n"
          ]
        }
      ],
      "source": [
        "import datetime\n",
        "\n",
        "input_date = input(\"Enter the date in MM DD YYYY format: \")\n",
        "month, day, year = map(int, input_date.split())\n",
        "\n",
        "if 2000 <= year <= 3000:\n",
        "    x = datetime.datetime(year, month, day)\n",
        "    day_name = x.strftime(\"%A\").upper()\n",
        "    print(day_name)\n",
        "else:\n",
        "    print(\"Year is not within the specified constraints\")\n",
        "\n"
      ]
    },
    {
      "cell_type": "code",
      "source": [
        "from math import pow\n",
        "\n",
        "def compute_armstrong(x):\n",
        "    n = len(str(x))\n",
        "    armstrong_sum = sum(int(pow(int(i), n)) for i in str(x))\n",
        "    return armstrong_sum == x\n",
        "\n",
        "number = int(input(\"Enter a number: \"))\n",
        "if compute_armstrong(number):\n",
        "    print(f\"{number} is an Armstrong number\")\n",
        "else:\n",
        "    print(f\"{number} is not an Armstrong number\")\n",
        "\n"
      ],
      "metadata": {
        "id": "DWXaUOWU4V5N",
        "colab": {
          "base_uri": "https://localhost:8080/"
        },
        "outputId": "9e869450-c63e-4213-adfe-03c544aac930"
      },
      "execution_count": null,
      "outputs": [
        {
          "output_type": "stream",
          "name": "stdout",
          "text": [
            "Enter a number: 1\n",
            "1 is an Armstrong number\n"
          ]
        }
      ]
    },
    {
      "cell_type": "code",
      "source": [
        "import math\n",
        "def edistance(x, y):\n",
        "   distance = math.sqrt((y[0] - x[0])**2 + (y[1] - x[1])**2)\n",
        "   return distance"
      ],
      "metadata": {
        "id": "EfYZ-w8m4bQK"
      },
      "execution_count": null,
      "outputs": []
    },
    {
      "cell_type": "code",
      "source": [
        "from euclidean_distance_module import edistance\n",
        "x=(1,3)\n",
        "y=(2,3)\n",
        "result=edistance(x,y)\n",
        "print(\"euclidean dis x,y:\",result)"
      ],
      "metadata": {
        "id": "u38r73GY4V9z"
      },
      "execution_count": null,
      "outputs": []
    },
    {
      "cell_type": "code",
      "source": [
        "def display():\n",
        "    print(\"Hello World\")"
      ],
      "metadata": {
        "id": "ItZIyD_r-n81"
      },
      "execution_count": null,
      "outputs": []
    },
    {
      "cell_type": "code",
      "source": [
        "def sum(a, b):\n",
        "    return a + b"
      ],
      "metadata": {
        "id": "9QqDq3cK-qch"
      },
      "execution_count": null,
      "outputs": []
    },
    {
      "cell_type": "code",
      "source": [
        "from T3 import mod1\n",
        "from T3 import mod2\n",
        "mod1.display()\n",
        "res = mod2.sum(1, 2)\n",
        "print(res)"
      ],
      "metadata": {
        "id": "Xdo1QzF0-nq5"
      },
      "execution_count": null,
      "outputs": []
    }
  ]
}